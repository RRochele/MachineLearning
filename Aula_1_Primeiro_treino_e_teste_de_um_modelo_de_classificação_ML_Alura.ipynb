{
  "nbformat": 4,
  "nbformat_minor": 0,
  "metadata": {
    "colab": {
      "provenance": [],
      "authorship_tag": "ABX9TyNZUbvdbst4PwweecYrztmG",
      "include_colab_link": true
    },
    "kernelspec": {
      "name": "python3",
      "display_name": "Python 3"
    },
    "language_info": {
      "name": "python"
    }
  },
  "cells": [
    {
      "cell_type": "markdown",
      "metadata": {
        "id": "view-in-github",
        "colab_type": "text"
      },
      "source": [
        "<a href=\"https://colab.research.google.com/github/RRochele/MachineLearning/blob/main/Aula_1_Primeiro_treino_e_teste_de_um_modelo_de_classifica%C3%A7%C3%A3o_ML_Alura.ipynb\" target=\"_parent\"><img src=\"https://colab.research.google.com/assets/colab-badge.svg\" alt=\"Open In Colab\"/></a>"
      ]
    },
    {
      "cell_type": "code",
      "execution_count": 8,
      "metadata": {
        "id": "jpJr47qKpNnj"
      },
      "outputs": [],
      "source": [
        "# features (1 sim, 0 não)\n",
        "# pelo longo?\n",
        "# perna curta?\n",
        "# faz auau? \n",
        "\n",
        "porco1 = [0, 1, 0]\n",
        "porco2 = [0, 1, 1]\n",
        "porco3 = [1, 1, 0]\n",
        "\n",
        "cachorro1 = [0, 1, 1]\n",
        "cachorro2 = [1, 0, 1]\n",
        "cachorro3 = [1, 1, 1]\n",
        "\n",
        "# 1 => porco, 0 => cachorro\n",
        "treino_x = [porco1, porco2,  porco3, cachorro1, cachorro2, cachorro3]\n",
        "treino_y = [1,1,1,0,0,0] #labels/etiquetas"
      ]
    },
    {
      "cell_type": "code",
      "source": [
        "from sklearn.svm import LinearSVC\n",
        "\n",
        "model=LinearSVC()\n",
        "model.fit(treino_x, treino_y)"
      ],
      "metadata": {
        "colab": {
          "base_uri": "https://localhost:8080/"
        },
        "id": "ZmNSzV3Npj6R",
        "outputId": "5266337b-9659-4d28-85c9-6717a8608de2"
      },
      "execution_count": 10,
      "outputs": [
        {
          "output_type": "execute_result",
          "data": {
            "text/plain": [
              "LinearSVC()"
            ]
          },
          "metadata": {},
          "execution_count": 10
        }
      ]
    },
    {
      "cell_type": "code",
      "source": [
        "animal_misterioso = [1,1,1]\n",
        "model.predict([animal_misterioso])"
      ],
      "metadata": {
        "colab": {
          "base_uri": "https://localhost:8080/"
        },
        "id": "QVks0Alrp-5C",
        "outputId": "6afe2e09-5dea-43ab-89da-9992066d0bbc"
      },
      "execution_count": 11,
      "outputs": [
        {
          "output_type": "execute_result",
          "data": {
            "text/plain": [
              "array([0])"
            ]
          },
          "metadata": {},
          "execution_count": 11
        }
      ]
    },
    {
      "cell_type": "code",
      "source": [
        "misterio1 = [1,1,1]\n",
        "misterio2 = [1,1,0]\n",
        "misterio3 = [0,1,1]\n",
        "\n",
        "teste_x = [misterio1, misterio2, misterio3]\n",
        "teste_y = [0,1,1]\n"
      ],
      "metadata": {
        "id": "6dzKwFA5qFqd"
      },
      "execution_count": 4,
      "outputs": []
    },
    {
      "cell_type": "code",
      "source": [
        "previsoes=model.predict(teste_x)"
      ],
      "metadata": {
        "id": "0yHNqWhH4_zR"
      },
      "execution_count": 12,
      "outputs": []
    },
    {
      "cell_type": "code",
      "source": [
        "corretos = (previsoes == teste_y).sum()\n",
        "total = len(teste_x) #tamanho do teste x\n",
        "taxa_de_acerto = corretos/total \n",
        "print(\"Taxa de acerto %.2f \" % (taxa_de_acerto * 100)) #formatação de ponto flutuante com duas casas decimais"
      ],
      "metadata": {
        "colab": {
          "base_uri": "https://localhost:8080/"
        },
        "id": "fVrcs0vr3UFp",
        "outputId": "fdd44bbc-39ac-43d2-beff-a5f471b9a0c0"
      },
      "execution_count": null,
      "outputs": [
        {
          "output_type": "stream",
          "name": "stdout",
          "text": [
            "Taxa de acerto 66.67 \n"
          ]
        }
      ]
    },
    {
      "cell_type": "code",
      "source": [
        "from sklearn.metrics import accuracy_score\n",
        "\n",
        "taxa_de_acerto=accuracy_score(teste_y, previsoes)\n",
        "print(\"Taxa de acerto %.2f \" % (taxa_de_acerto * 100))"
      ],
      "metadata": {
        "colab": {
          "base_uri": "https://localhost:8080/"
        },
        "id": "eXwXpevE3jft",
        "outputId": "c6f8e3c6-b615-4a5c-b7d1-b76d0f2012fb"
      },
      "execution_count": 13,
      "outputs": [
        {
          "output_type": "stream",
          "name": "stdout",
          "text": [
            "Taxa de acerto 66.67 \n"
          ]
        }
      ]
    },
    {
      "cell_type": "code",
      "source": [
        "# Anotações: \n",
        "# Nessa aula aprendemos a:\n",
        "\n",
        "# Treinar algoritmos;\n",
        "# Definir características (features) do que desejamos classificar;\n",
        "# Classificar em categorias;\n",
        "# Utilizar o módulo linearSVC e accuracy_score;\n",
        "# Utilizar o método fit;\n",
        "# Prever dados com a função predict;\n",
        "# Calcular a taxa de acerto do modelo;\n",
        "# Comparar testes e previsões;\n",
        "# Utilizar a função soma;\n",
        "# Padronizar variáveis;"
      ],
      "metadata": {
        "id": "Z3Je9tFw4XAr"
      },
      "execution_count": 1,
      "outputs": []
    }
  ]
}